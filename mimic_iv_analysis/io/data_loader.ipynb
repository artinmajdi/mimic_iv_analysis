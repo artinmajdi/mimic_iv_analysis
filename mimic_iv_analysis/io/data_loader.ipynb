{
 "cells": [
  {
   "cell_type": "code",
   "execution_count": 1,
   "id": "3b47f7ec",
   "metadata": {},
   "outputs": [],
   "source": [
    "%load_ext autoreload\n",
    "%autoreload 2\n",
    "\n",
    "from mimic_iv_analysis.configurations.params import DEFAULT_STUDY_TABLES_LIST\n",
    "from mimic_iv_analysis.io import DataLoader, TableNames, ParquetConverter, ExampleDataLoader\n",
    "import pandas as pd\n",
    "\n",
    "import dask.dataframe as dd\n",
    "\n",
    "# from dask.distributed import Client\n",
    "# client = Client(n_workers=4, threads_per_worker=4, processes=True, memory_limit='8GB')\n",
    "# client"
   ]
  },
  {
   "cell_type": "code",
   "execution_count": null,
   "id": "ecb936c1",
   "metadata": {},
   "outputs": [],
   "source": [
    "# example = ExampleDataLoader(partial_loading=False, num_subjects=10, apply_filtering=True)\n",
    "# df = example.load_merged_tables()"
   ]
  },
  {
   "cell_type": "code",
   "execution_count": 2,
   "id": "47f1fd00",
   "metadata": {},
   "outputs": [],
   "source": [
    "loader = DataLoader()\n"
   ]
  },
  {
   "cell_type": "code",
   "execution_count": 21,
   "id": "a9b2174a",
   "metadata": {},
   "outputs": [
    {
     "data": {
      "text/html": [
       "<pre style=\"white-space:pre;overflow-x:auto;line-height:normal;font-family:Menlo,'DejaVu Sans Mono',consolas,'Courier New',monospace\"><span style=\"color: #7fbfbf; text-decoration-color: #7fbfbf\">[21:38:00] </span><span style=\"color: #000080; text-decoration-color: #000080\">INFO    </span> Filtering admissions by subject_id for <span style=\"color: #008080; text-decoration-color: #008080; font-weight: bold\">10</span> subjects.                          <span style=\"color: #7f7f7f; text-decoration-color: #7f7f7f\">data_loader.py:393</span>\n",
       "</pre>\n"
      ],
      "text/plain": [
       "\u001b[2;36m[21:38:00]\u001b[0m\u001b[2;36m \u001b[0m\u001b[34mINFO    \u001b[0m Filtering admissions by subject_id for \u001b[1;36m10\u001b[0m subjects.                          \u001b[2mdata_loader.py:393\u001b[0m\n"
      ]
     },
     "metadata": {},
     "output_type": "display_data"
    }
   ],
   "source": [
    "df = loader.load_one_table(table_name=TableNames.ADMISSIONS, partial_loading=True, num_subjects=10)"
   ]
  },
  {
   "cell_type": "markdown",
   "id": "755fb756",
   "metadata": {},
   "source": [
    "## Scan the directory"
   ]
  },
  {
   "cell_type": "code",
   "execution_count": 3,
   "id": "3827e77f",
   "metadata": {},
   "outputs": [
    {
     "data": {
      "text/html": [
       "<pre style=\"white-space:pre;overflow-x:auto;line-height:normal;font-family:Menlo,'DejaVu Sans Mono',consolas,'Courier New',monospace\"><span style=\"color: #7fbfbf; text-decoration-color: #7fbfbf\">[21:53:01] </span><span style=\"color: #000080; text-decoration-color: #000080\">INFO    </span> Loaded <span style=\"color: #008080; text-decoration-color: #008080; font-weight: bold\">2423918</span> rows from merged table.                                       <span style=\"color: #7f7f7f; text-decoration-color: #7f7f7f\">data_loader.py:525</span>\n",
       "</pre>\n"
      ],
      "text/plain": [
       "\u001b[2;36m[21:53:01]\u001b[0m\u001b[2;36m \u001b[0m\u001b[34mINFO    \u001b[0m Loaded \u001b[1;36m2423918\u001b[0m rows from merged table.                                       \u001b[2mdata_loader.py:525\u001b[0m\n"
      ]
     },
     "metadata": {},
     "output_type": "display_data"
    }
   ],
   "source": [
    "df_merged = loader.load_merged_tables(partial_loading=False)"
   ]
  },
  {
   "cell_type": "code",
   "execution_count": 4,
   "id": "b870f22c",
   "metadata": {},
   "outputs": [],
   "source": [
    "subject_ids = loader.all_subject_ids(df=df_merged, table_name=TableNames.MERGED)"
   ]
  },
  {
   "cell_type": "code",
   "execution_count": 5,
   "id": "fac6539a",
   "metadata": {},
   "outputs": [
    {
     "data": {
      "text/plain": [
       "4943"
      ]
     },
     "execution_count": 5,
     "metadata": {},
     "output_type": "execute_result"
    }
   ],
   "source": [
    "len(set(subject_ids))"
   ]
  },
  {
   "cell_type": "code",
   "execution_count": 6,
   "id": "43748f5d",
   "metadata": {},
   "outputs": [
    {
     "data": {
      "text/plain": [
       "2423918"
      ]
     },
     "execution_count": 6,
     "metadata": {},
     "output_type": "execute_result"
    }
   ],
   "source": [
    "df_merged.shape[0].compute()"
   ]
  },
  {
   "cell_type": "code",
   "execution_count": null,
   "id": "2568241f",
   "metadata": {},
   "outputs": [],
   "source": []
  },
  {
   "cell_type": "code",
   "execution_count": null,
   "id": "ef986515",
   "metadata": {},
   "outputs": [],
   "source": []
  }
 ],
 "metadata": {
  "kernelspec": {
   "display_name": ".venv",
   "language": "python",
   "name": "python3"
  },
  "language_info": {
   "codemirror_mode": {
    "name": "ipython",
    "version": 3
   },
   "file_extension": ".py",
   "mimetype": "text/x-python",
   "name": "python",
   "nbconvert_exporter": "python",
   "pygments_lexer": "ipython3",
   "version": "3.12.10"
  }
 },
 "nbformat": 4,
 "nbformat_minor": 5
}
