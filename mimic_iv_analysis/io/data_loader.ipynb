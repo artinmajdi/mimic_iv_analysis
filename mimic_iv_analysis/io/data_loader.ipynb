{
 "cells": [
  {
   "cell_type": "code",
   "execution_count": null,
   "id": "3b47f7ec",
   "metadata": {},
   "outputs": [],
   "source": [
    "%load_ext autoreload\n",
    "%autoreload 2\n",
    "\n",
    "from mimic_iv_analysis.io import DataLoader, TableNamesHOSP, TableNamesICU, ParquetConverter\n",
    "import pandas as pd\n",
    "import dask.dataframe as dd"
   ]
  },
  {
   "cell_type": "code",
   "execution_count": null,
   "id": "a9b2174a",
   "metadata": {},
   "outputs": [],
   "source": [
    "from dask.distributed import Client\n",
    "client = Client(n_workers=2, threads_per_worker=4, processes=True, memory_limit='8GB')\n",
    "client"
   ]
  },
  {
   "cell_type": "markdown",
   "id": "755fb756",
   "metadata": {},
   "source": [
    "## Scan the directory"
   ]
  },
  {
   "cell_type": "code",
   "execution_count": null,
   "id": "fac6539a",
   "metadata": {},
   "outputs": [],
   "source": [
    "\n",
    "data_loader = DataLoader()\n",
    "\n",
    "# Scan the directory\n",
    "data_loader.scan_mimic_directory()\n",
    "\n",
    "\n",
    "data_loader.study_tables_info"
   ]
  },
  {
   "cell_type": "code",
   "execution_count": null,
   "id": "c624381c",
   "metadata": {},
   "outputs": [],
   "source": [
    "%%time\n",
    "\n",
    "subject_ids = data_loader.get_partial_subject_id_list_for_partial_loading(num_subjects=5)\n",
    "print(subject_ids)\n",
    "\n",
    "df = data_loader.load_table(table_name=TableNamesHOSP.DIAGNOSES_ICD, partial_loading=True, subject_ids=subject_ids)\n",
    "# df = df.compute()\n",
    "df"
   ]
  },
  {
   "cell_type": "code",
   "execution_count": null,
   "id": "eb4ba1ad",
   "metadata": {},
   "outputs": [],
   "source": [
    "tables_dict = data_loader.load_all_study_tables(partial_loading=True, num_subjects=5)\n"
   ]
  },
  {
   "cell_type": "code",
   "execution_count": null,
   "id": "df4118bd",
   "metadata": {},
   "outputs": [],
   "source": [
    "print(tables_dict.keys())\n",
    "\n",
    "\n",
    "patients_df        = tables_dict[TableNamesHOSP.PATIENTS.value]\n",
    "admissions_df      = tables_dict[TableNamesHOSP.ADMISSIONS.value]\n",
    "diagnoses_icd_df   = tables_dict[TableNamesHOSP.DIAGNOSES_ICD.value]\n",
    "poe_df             = tables_dict[TableNamesHOSP.POE.value]\n",
    "d_icd_diagnoses_df = tables_dict[TableNamesHOSP.D_ICD_DIAGNOSES.value]\n",
    "poe_detail_df      = tables_dict[TableNamesHOSP.POE_DETAIL.value]"
   ]
  },
  {
   "cell_type": "code",
   "execution_count": null,
   "id": "5c5334a2",
   "metadata": {},
   "outputs": [],
   "source": [
    "df12 = patients_df.merge(admissions_df, on='subject_id', how='inner')\n",
    "df34 = diagnoses_icd_df.merge(d_icd_diagnoses_df, on=('icd_code', 'icd_version'), how='inner')\n",
    "df56 = poe_df.merge(poe_detail_df, on=('poe_id', 'poe_seq', 'subject_id'), how='left')\n",
    "\n",
    "df1234   = df12.merge(df34, on=('subject_id', 'hadm_id'), how='inner')\n",
    "df123456 = df1234.merge(df56, on=('subject_id', 'hadm_id'), how='inner')"
   ]
  },
  {
   "cell_type": "code",
   "execution_count": null,
   "id": "e29e677e",
   "metadata": {},
   "outputs": [],
   "source": [
    "df123456c = df123456.compute()\n",
    "df123456c"
   ]
  },
  {
   "cell_type": "code",
   "execution_count": null,
   "id": "6cc512ca",
   "metadata": {},
   "outputs": [],
   "source": [
    "# Filter age\n",
    "df123456 = df123456[(df123456.anchor_age >= 18.0) & (df123456.anchor_age <= 75.0)]\n",
    "\n",
    "# Filter icd_version. Ony keep the ICD 10\n",
    "df123456 = df123456[df123456.icd_version == 10]\n",
    "\n",
    "# remove columns discontinued_by_poe_id\n",
    "df123456 = df123456.drop(columns=['discontinued_by_poe_id'])\n"
   ]
  },
  {
   "cell_type": "code",
   "execution_count": null,
   "id": "2568241f",
   "metadata": {},
   "outputs": [],
   "source": [
    "df = df123456.compute()\n",
    "df.keys()"
   ]
  },
  {
   "cell_type": "code",
   "execution_count": null,
   "id": "ef986515",
   "metadata": {},
   "outputs": [],
   "source": [
    "# how to check if either one or both of admittime or dischtime are null\n",
    "admissions_df_full    = data_loader.load_table(table_name=TableNamesHOSP.ADMISSIONS, partial_loading=False)\n",
    "diagnoses_icd_df_full = data_loader.load_table(table_name=TableNamesHOSP.DIAGNOSES_ICD, partial_loading=False)\n",
    "\n",
    "# filter out the admissions where patient dies\n",
    "admissions_df_full = admissions_df_full[admissions_df_full.deathtime.isnull()]\n",
    "\n",
    "# filter out the diagnoses where icd_version is not 10\n",
    "diagnoses_icd_df_full = diagnoses_icd_df_full[diagnoses_icd_df_full.icd_version == 10]\n",
    "\n",
    "\n",
    "dfa = admissions_df_full.compute()\n",
    "dfd = diagnoses_icd_df_full.compute()"
   ]
  },
  {
   "cell_type": "code",
   "execution_count": null,
   "id": "941afff9",
   "metadata": {},
   "outputs": [],
   "source": [
    "diagnoses_icd_df_full.shape[0].compute()"
   ]
  },
  {
   "cell_type": "code",
   "execution_count": null,
   "id": "c38b7a05",
   "metadata": {},
   "outputs": [],
   "source": [
    "diagnoses_icd_df_full.size.compute()"
   ]
  },
  {
   "cell_type": "code",
   "execution_count": null,
   "id": "1296f61b",
   "metadata": {},
   "outputs": [],
   "source": []
  },
  {
   "cell_type": "code",
   "execution_count": null,
   "id": "7ceb4dfe",
   "metadata": {},
   "outputs": [],
   "source": []
  }
 ],
 "metadata": {
  "kernelspec": {
   "display_name": ".venv",
   "language": "python",
   "name": "python3"
  },
  "language_info": {
   "codemirror_mode": {
    "name": "ipython",
    "version": 3
   },
   "file_extension": ".py",
   "mimetype": "text/x-python",
   "name": "python",
   "nbconvert_exporter": "python",
   "pygments_lexer": "ipython3",
   "version": "3.12.10"
  }
 },
 "nbformat": 4,
 "nbformat_minor": 5
}
