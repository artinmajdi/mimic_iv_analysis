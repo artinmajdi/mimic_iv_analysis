{
 "cells": [
  {
   "cell_type": "code",
   "execution_count": 2,
   "id": "3b47f7ec",
   "metadata": {},
   "outputs": [
    {
     "name": "stdout",
     "output_type": "stream",
     "text": [
      "The autoreload extension is already loaded. To reload it, use:\n",
      "  %reload_ext autoreload\n"
     ]
    }
   ],
   "source": [
    "%load_ext autoreload\n",
    "%autoreload 2\n",
    "\n",
    "from mimic_iv_analysis.core.params import DEFAULT_STUDY_TABLES_LIST\n",
    "from mimic_iv_analysis.io import DataLoader, TableNamesHOSP, TableNamesICU, ParquetConverter, ExampleDataLoader\n",
    "import pandas as pd\n",
    "\n",
    "import dask.dataframe as dd"
   ]
  },
  {
   "cell_type": "code",
   "execution_count": 3,
   "id": "a9b2174a",
   "metadata": {},
   "outputs": [
    {
     "data": {
      "text/plain": [
       "['patients',\n",
       " 'admissions',\n",
       " 'diagnoses_icd',\n",
       " 'transfers',\n",
       " 'd_icd_diagnoses',\n",
       " 'poe',\n",
       " 'poe_detail']"
      ]
     },
     "execution_count": 3,
     "metadata": {},
     "output_type": "execute_result"
    }
   ],
   "source": [
    "# from dask.distributed import Client\n",
    "# client = Client(n_workers=4, threads_per_worker=4, processes=True, memory_limit='8GB')\n",
    "# client\n",
    "[a.value for a in DEFAULT_STUDY_TABLES_LIST]"
   ]
  },
  {
   "cell_type": "markdown",
   "id": "755fb756",
   "metadata": {},
   "source": [
    "## Scan the directory"
   ]
  },
  {
   "cell_type": "code",
   "execution_count": null,
   "id": "3827e77f",
   "metadata": {},
   "outputs": [],
   "source": [
    "len( list(set.intersection(*a[:4])) )"
   ]
  },
  {
   "cell_type": "code",
   "execution_count": null,
   "id": "fac6539a",
   "metadata": {},
   "outputs": [],
   "source": [
    "# TODO: Load tables individually and merge them with the how=outer (filters applied after merging) and see if it makes any difference compare to when I do it with the inner (filters applied before merging).\n",
    "\n",
    "# examples_full    = ExampleDataLoader(partial_loading=False)\n",
    "examples_partial = ExampleDataLoader(partial_loading=False, num_subjects=10, random_selection=False)"
   ]
  },
  {
   "cell_type": "code",
   "execution_count": null,
   "id": "43748f5d",
   "metadata": {},
   "outputs": [],
   "source": [
    "examples_partial.study_table_info()"
   ]
  },
  {
   "cell_type": "code",
   "execution_count": null,
   "id": "c624381c",
   "metadata": {},
   "outputs": [],
   "source": [
    "examples_partial.counter()"
   ]
  },
  {
   "cell_type": "code",
   "execution_count": null,
   "id": "08270852",
   "metadata": {},
   "outputs": [],
   "source": [
    "df = examples_partial.load_merged_tables(partial_loading=True, num_subjects=10, random_selection=False, use_dask=True)"
   ]
  },
  {
   "cell_type": "code",
   "execution_count": null,
   "id": "df4118bd",
   "metadata": {},
   "outputs": [],
   "source": []
  },
  {
   "cell_type": "code",
   "execution_count": null,
   "id": "e29e677e",
   "metadata": {},
   "outputs": [],
   "source": [
    "# Print in a tabular format\n",
    "examples_partial.n_rows_after_merge()"
   ]
  },
  {
   "cell_type": "code",
   "execution_count": null,
   "id": "2568241f",
   "metadata": {},
   "outputs": [],
   "source": []
  },
  {
   "cell_type": "code",
   "execution_count": null,
   "id": "ef986515",
   "metadata": {},
   "outputs": [],
   "source": []
  }
 ],
 "metadata": {
  "kernelspec": {
   "display_name": ".venv",
   "language": "python",
   "name": "python3"
  },
  "language_info": {
   "codemirror_mode": {
    "name": "ipython",
    "version": 3
   },
   "file_extension": ".py",
   "mimetype": "text/x-python",
   "name": "python",
   "nbconvert_exporter": "python",
   "pygments_lexer": "ipython3",
   "version": "3.12.10"
  }
 },
 "nbformat": 4,
 "nbformat_minor": 5
}
